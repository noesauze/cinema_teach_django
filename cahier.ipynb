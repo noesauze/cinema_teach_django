{
 "cells": [
  {
   "cell_type": "code",
   "execution_count": null,
   "metadata": {},
   "outputs": [],
   "source": [
    "#Trouver les vecteurs vitesse des centroides\n",
    "def calc_vecteurs_vitesse(list_centroids,trajectory):\n",
    "    longueur=len(trajectory)\n",
    "    for i in range (longueur):\n",
    "        vect_position = trajectory[i+1]-trajectory[i]\n",
    "        vect_position[0],vect_position[1]=vect_position[1],vect_position[0]\n",
    "    vect_perpendiculaire=vect_position\n",
    "\n",
    "def calc_cir(list_centroids,trajectory,vect_perpendiculaire):\n",
    "    "
   ]
  },
  {
   "cell_type": "code",
   "execution_count": 6,
   "metadata": {},
   "outputs": [],
   "source": [
    "def cal_perpendiculaires(list_centroids):\n",
    "    n=len(list_centroids)\n",
    "    for k in range(n):\n",
    "        vect_perpendiculaire=list_centroids\n",
    "        vect_perpendiculaire[k][0][0][0],vect_perpendiculaire[k][0][0][1]=-vect_perpendiculaire[k][0][0][1],vect_perpendiculaire[k][0][0][0]\n",
    "        vect_perpendiculaire[k][1][0][0],vect_perpendiculaire[k][1][0][1]=-vect_perpendiculaire[k][1][0][1],vect_perpendiculaire[k][1][0][0]\n",
    "\n"
   ]
  },
  {
   "cell_type": "code",
   "execution_count": 7,
   "metadata": {},
   "outputs": [],
   "source": [
    "def cir(list_centroids):\n",
    "    list_perpendiculaires=cal_perpendiculaires(list_centroids)\n",
    "    n=len(list_centroids)\n",
    "    CIR=[]\n",
    "    for k in range(n):\n",
    "        Vx1=list_perpendiculaires[k][0][0][0]\n",
    "        Vy1=list_perpendiculaires[k][0][0][1]\n",
    "        x1=list_perpendiculaires[k][0][1][0]\n",
    "        y1=list_perpendiculaires[k][0][1][1]\n",
    "        Vx2=list_perpendiculaires[k][1][0][0]\n",
    "        Vy2=list_perpendiculaires[k][1][0][1]\n",
    "        x2=list_perpendiculaires[k][1][1][0]\n",
    "        y2=list_perpendiculaires[k][1][1][1]\n",
    "        Px = ((Vy1 * x1 - Vx1 * y1) * (Vx2 * Vy2) - (Vx1 * y1 - Vy1 * x1) * (Vx2 * Vy2)) / (Vx1 * Vy2 - Vy1 * Vx2)\n",
    "        Py = ((Vy1 * x1 - Vx1 * y1) * (Vx2 * Vy2) - (Vx1 * y1 - Vy1 * x1) * (Vx2 * Vy2)) / (Vx1 * Vy2 - Vy1 * Vx2)\n",
    "        CIR[k].append(Px,Py)\n",
    "    return CIR"
   ]
  },
  {
   "cell_type": "code",
   "execution_count": 13,
   "metadata": {},
   "outputs": [
    {
     "name": "stdout",
     "output_type": "stream",
     "text": [
      "[((0, 0), 0.0), ((0, 0), 0.03333333333333333), ((296, 824), 0.06666666666666667), ((294, 824), 0.1), ((292, 812), 0.13333333333333333), ((293, 808), 0.16666666666666666), ((293, 795), 0.2), ((289, 789), 0.23333333333333334), ((293, 780), 0.26666666666666666), ((294, 771), 0.3), ((302, 739), 0.3333333333333333), ((318, 718), 0.36666666666666664), ((327, 708), 0.4), ((342, 699), 0.43333333333333335), ((356, 692), 0.4666666666666667), ((367, 644), 0.5), ((381, 620), 0.5333333333333333), ((387, 606), 0.5666666666666667), ((386, 593), 0.6), ((394, 564), 0.6333333333333333), ((391, 540), 0.6666666666666666), ((388, 509), 0.7), ((385, 475), 0.7333333333333333), ((382, 443), 0.7666666666666667), ((380, 402), 0.8), ((379, 365), 0.8333333333333334), ((378, 328), 0.8666666666666667), ((371, 292), 0.9), ((372, 257), 0.9333333333333333), ((369, 233), 0.9666666666666667), ((367, 210), 1.0), ((366, 191), 1.0333333333333334), ((364, 171), 1.0666666666666667), ((357, 139), 1.1), ((355, 120), 1.1333333333333333), ((350, 106), 1.1666666666666667), ((350, 96), 1.2), ((349, 81), 1.2333333333333334), ((348, 74), 1.2666666666666666), ((347, 68), 1.3), ((346, 58), 1.3333333333333333), ((347, 50), 1.3666666666666667), ((346, 42), 1.4), ((349, 37), 1.4333333333333333)]\n"
     ]
    },
    {
     "ename": "TypeError",
     "evalue": "'int' object is not subscriptable",
     "output_type": "error",
     "traceback": [
      "\u001b[1;31m---------------------------------------------------------------------------\u001b[0m",
      "\u001b[1;31mTypeError\u001b[0m                                 Traceback (most recent call last)",
      "Cell \u001b[1;32mIn[13], line 6\u001b[0m\n\u001b[0;32m      4\u001b[0m tab_donnes,x\u001b[38;5;241m=\u001b[39mfichier_video_en_images(\u001b[38;5;124m\"\u001b[39m\u001b[38;5;124mSolidTest2.mp4\u001b[39m\u001b[38;5;124m\"\u001b[39m)\n\u001b[0;32m      5\u001b[0m \u001b[38;5;28mprint\u001b[39m(tab_donnes)\n\u001b[1;32m----> 6\u001b[0m list_centroids\u001b[38;5;241m=\u001b[39m\u001b[43mvideo_vitesses\u001b[49m\u001b[43m(\u001b[49m\u001b[43mtab_donnes\u001b[49m\u001b[43m)\u001b[49m\n\u001b[0;32m      7\u001b[0m CIR\u001b[38;5;241m=\u001b[39mcir(list_centroids)\n\u001b[0;32m      8\u001b[0m \u001b[38;5;28mprint\u001b[39m(CIR)\n",
      "File \u001b[1;32mc:\\Users\\maxim\\OneDrive\\Documents\\Info SI\\cinema_teach_django\\cinema_teach\\meca_solide.py:28\u001b[0m, in \u001b[0;36mvideo_vitesses\u001b[1;34m(tab_donnes)\u001b[0m\n\u001b[0;32m     26\u001b[0m video_vitesses\u001b[38;5;241m=\u001b[39m[]\n\u001b[0;32m     27\u001b[0m \u001b[38;5;28;01mfor\u001b[39;00m frame \u001b[38;5;129;01min\u001b[39;00m \u001b[38;5;28mrange\u001b[39m(\u001b[38;5;28mlen\u001b[39m(tab_donnes)\u001b[38;5;241m-\u001b[39m\u001b[38;5;241m1\u001b[39m):\n\u001b[1;32m---> 28\u001b[0m     list_vitesses\u001b[38;5;241m=\u001b[39m\u001b[43mcalculate_vitesses\u001b[49m\u001b[43m(\u001b[49m\u001b[43mframe\u001b[49m\u001b[43m,\u001b[49m\u001b[43mtab_donnes\u001b[49m\u001b[43m)\u001b[49m\n\u001b[0;32m     29\u001b[0m     video_vitesses\u001b[38;5;241m.\u001b[39mappend(list_vitesses)\n",
      "File \u001b[1;32mc:\\Users\\maxim\\OneDrive\\Documents\\Info SI\\cinema_teach_django\\cinema_teach\\meca_solide.py:5\u001b[0m, in \u001b[0;36mcalculate_vitesses\u001b[1;34m(frame, tab_donnes)\u001b[0m\n\u001b[0;32m      3\u001b[0m \u001b[38;5;28;01mdef\u001b[39;00m \u001b[38;5;21mcalculate_vitesses\u001b[39m(frame,tab_donnes):\n\u001b[0;32m      4\u001b[0m     list_vitesses\u001b[38;5;241m=\u001b[39m[]\n\u001b[1;32m----> 5\u001b[0m     linked_paquets\u001b[38;5;241m=\u001b[39m\u001b[43massign_paquets\u001b[49m\u001b[43m(\u001b[49m\u001b[43mframe\u001b[49m\u001b[43m,\u001b[49m\u001b[43mtab_donnes\u001b[49m\u001b[43m)\u001b[49m\n\u001b[0;32m      6\u001b[0m     \u001b[38;5;28;01mfor\u001b[39;00m i \u001b[38;5;129;01min\u001b[39;00m \u001b[38;5;28mrange\u001b[39m(\u001b[38;5;28mlen\u001b[39m(linked_paquets)):\u001b[38;5;66;03m#attention range of frame\u001b[39;00m\n\u001b[0;32m      7\u001b[0m         t1\u001b[38;5;241m=\u001b[39mtab_donnes[frame][\u001b[38;5;241m1\u001b[39m]\n",
      "File \u001b[1;32mc:\\Users\\maxim\\OneDrive\\Documents\\Info SI\\cinema_teach_django\\cinema_teach\\meca_solide.py:21\u001b[0m, in \u001b[0;36massign_paquets\u001b[1;34m(frame, tab_donnes)\u001b[0m\n\u001b[0;32m     19\u001b[0m     distance_glob\u001b[38;5;241m=\u001b[39m[]\n\u001b[0;32m     20\u001b[0m     \u001b[38;5;28;01mfor\u001b[39;00m j \u001b[38;5;129;01min\u001b[39;00m \u001b[38;5;28mrange\u001b[39m(\u001b[38;5;28mlen\u001b[39m(tab_donnes[frame])):\n\u001b[1;32m---> 21\u001b[0m         distance_glob\u001b[38;5;241m.\u001b[39mappend(np\u001b[38;5;241m.\u001b[39msqrt((\u001b[43mtab_donnes\u001b[49m\u001b[43m[\u001b[49m\u001b[43mframe\u001b[49m\u001b[43m]\u001b[49m\u001b[43m[\u001b[49m\u001b[38;5;241;43m0\u001b[39;49m\u001b[43m]\u001b[49m\u001b[43m[\u001b[49m\u001b[43mi\u001b[49m\u001b[43m]\u001b[49m\u001b[43m[\u001b[49m\u001b[38;5;241;43m0\u001b[39;49m\u001b[43m]\u001b[49m \u001b[38;5;241m-\u001b[39m tab_donnes[frame\u001b[38;5;241m+\u001b[39m\u001b[38;5;241m1\u001b[39m][\u001b[38;5;241m0\u001b[39m][j][\u001b[38;5;241m0\u001b[39m])\u001b[38;5;241m*\u001b[39m\u001b[38;5;241m*\u001b[39m\u001b[38;5;241m2\u001b[39m \u001b[38;5;241m+\u001b[39m (tab_donnes[frame][\u001b[38;5;241m0\u001b[39m][i][\u001b[38;5;241m1\u001b[39m] \u001b[38;5;241m-\u001b[39m tab_donnes[frame\u001b[38;5;241m+\u001b[39m\u001b[38;5;241m1\u001b[39m][\u001b[38;5;241m0\u001b[39m][j][\u001b[38;5;241m1\u001b[39m])\u001b[38;5;241m*\u001b[39m\u001b[38;5;241m*\u001b[39m\u001b[38;5;241m2\u001b[39m))\n\u001b[0;32m     22\u001b[0m     distance_min\u001b[38;5;241m.\u001b[39mappend([i,np\u001b[38;5;241m.\u001b[39margmin(distance_glob)])\n\u001b[0;32m     23\u001b[0m \u001b[38;5;28;01mreturn\u001b[39;00m distance_min\n",
      "\u001b[1;31mTypeError\u001b[0m: 'int' object is not subscriptable"
     ]
    }
   ],
   "source": [
    "from cinema_teach.meca_solide import video_vitesses\n",
    "from cinema_teach.img_traitment import fichier_video_en_images, video_en_donne\n",
    "\n",
    "tab_donnes,x=fichier_video_en_images(\"SolidTest2.mp4\")\n",
    "print(tab_donnes)\n",
    "list_centroids=video_vitesses(tab_donnes)\n",
    "CIR=cir(list_centroids)\n",
    "print(CIR)\n"
   ]
  }
 ],
 "metadata": {
  "kernelspec": {
   "display_name": "Python 3",
   "language": "python",
   "name": "python3"
  },
  "language_info": {
   "codemirror_mode": {
    "name": "ipython",
    "version": 3
   },
   "file_extension": ".py",
   "mimetype": "text/x-python",
   "name": "python",
   "nbconvert_exporter": "python",
   "pygments_lexer": "ipython3",
   "version": "3.12.2"
  }
 },
 "nbformat": 4,
 "nbformat_minor": 2
}
